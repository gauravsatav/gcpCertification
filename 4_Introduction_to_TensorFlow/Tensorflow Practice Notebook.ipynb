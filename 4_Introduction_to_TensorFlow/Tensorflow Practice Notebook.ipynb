{
 "cells": [
  {
   "cell_type": "code",
   "execution_count": 1,
   "id": "651d37cd",
   "metadata": {},
   "outputs": [],
   "source": [
    "import tensorflow as tf"
   ]
  },
  {
   "cell_type": "code",
   "execution_count": 2,
   "id": "8a3dce4a",
   "metadata": {},
   "outputs": [],
   "source": [
    "x = tf.constant(3)"
   ]
  },
  {
   "cell_type": "code",
   "execution_count": 5,
   "id": "428e1421",
   "metadata": {},
   "outputs": [],
   "source": [
    "x = tf.constant([3,4,5,])"
   ]
  },
  {
   "cell_type": "code",
   "execution_count": 8,
   "id": "c26cb13a",
   "metadata": {},
   "outputs": [
    {
     "name": "stdout",
     "output_type": "stream",
     "text": [
      "tf.Tensor([[3 4 5]], shape=(1, 3), dtype=int32)\n"
     ]
    }
   ],
   "source": [
    "print(tf.reshape(x,(1,3)))"
   ]
  },
  {
   "cell_type": "code",
   "execution_count": 11,
   "id": "c1b235aa",
   "metadata": {},
   "outputs": [],
   "source": [
    "x2 = tf.stack([x,x])"
   ]
  },
  {
   "cell_type": "code",
   "execution_count": 12,
   "id": "fe610e40",
   "metadata": {},
   "outputs": [
    {
     "name": "stdout",
     "output_type": "stream",
     "text": [
      "tf.Tensor(\n",
      "[[3 4]\n",
      " [5 3]\n",
      " [4 5]], shape=(3, 2), dtype=int32)\n"
     ]
    }
   ],
   "source": [
    "print(tf.reshape(x2,(3,2)))"
   ]
  },
  {
   "cell_type": "code",
   "execution_count": 13,
   "id": "4a39135f",
   "metadata": {},
   "outputs": [],
   "source": [
    "w = tf.Variable(2,dtype='float',name='myVar')"
   ]
  },
  {
   "cell_type": "code",
   "execution_count": 15,
   "id": "bf58dca2",
   "metadata": {},
   "outputs": [
    {
     "data": {
      "text/plain": [
       "<tf.Variable 'UnreadVariable' shape=() dtype=float32, numpy=6.0>"
      ]
     },
     "execution_count": 15,
     "metadata": {},
     "output_type": "execute_result"
    }
   ],
   "source": [
    "w.assign(6)"
   ]
  },
  {
   "cell_type": "code",
   "execution_count": 16,
   "id": "bacddc4f",
   "metadata": {},
   "outputs": [
    {
     "data": {
      "text/plain": [
       "<tf.Variable 'UnreadVariable' shape=() dtype=float32, numpy=10.0>"
      ]
     },
     "execution_count": 16,
     "metadata": {},
     "output_type": "execute_result"
    }
   ],
   "source": [
    "w.assign_add(4)"
   ]
  },
  {
   "cell_type": "code",
   "execution_count": 18,
   "id": "3c82f5f8",
   "metadata": {},
   "outputs": [
    {
     "data": {
      "text/plain": [
       "<tf.Tensor: shape=(2, 2), dtype=int32, numpy=\n",
       "array([[3, 2],\n",
       "       [6, 4]])>"
      ]
     },
     "execution_count": 18,
     "metadata": {},
     "output_type": "execute_result"
    }
   ],
   "source": [
    "w = tf.Variable([[1],[2]])\n",
    "x = tf.constant([[3,2]])\n",
    "tf.matmul(w,x)"
   ]
  },
  {
   "cell_type": "code",
   "execution_count": 30,
   "id": "b4898fde",
   "metadata": {},
   "outputs": [],
   "source": [
    "textFileDataset = tf.data.TextLineDataset('./notes.md')"
   ]
  },
  {
   "cell_type": "code",
   "execution_count": 37,
   "id": "029e5aa9",
   "metadata": {},
   "outputs": [
    {
     "name": "stdout",
     "output_type": "stream",
     "text": [
      "tf.Tensor(b'.', shape=(), dtype=string)\n"
     ]
    }
   ],
   "source": [
    "for file in tf.data.Dataset.list_files('.'):\n",
    "    print(file)"
   ]
  },
  {
   "cell_type": "code",
   "execution_count": 31,
   "id": "b1bdd51c",
   "metadata": {},
   "outputs": [
    {
     "name": "stdout",
     "output_type": "stream",
     "text": [
      "tf.Tensor(b'', shape=(), dtype=string)\n",
      "tf.Tensor(b'|[Home](../README.md)|[Course Page]()|', shape=(), dtype=string)\n",
      "tf.Tensor(b'|---------------------|--------------|', shape=(), dtype=string)\n",
      "tf.Tensor(b'', shape=(), dtype=string)\n",
      "tf.Tensor(b'## Introduction to TensorFlow', shape=(), dtype=string)\n",
      "tf.Tensor(b'', shape=(), dtype=string)\n"
     ]
    }
   ],
   "source": [
    "for line in textFileDataset.take(6):\n",
    "    print(line)"
   ]
  },
  {
   "cell_type": "code",
   "execution_count": 28,
   "id": "e302b70b",
   "metadata": {},
   "outputs": [
    {
     "name": "stdout",
     "output_type": "stream",
     "text": [
      "tf.Tensor([b'' b'|[Home](../README.md)|[Course Page]()|'], shape=(2,), dtype=string)\n",
      "tf.Tensor([b'|---------------------|--------------|' b''], shape=(2,), dtype=string)\n",
      "tf.Tensor([b'## Introduction to TensorFlow' b''], shape=(2,), dtype=string)\n",
      "tf.Tensor([b'[TOC]' b''], shape=(2,), dtype=string)\n",
      "tf.Tensor([b'### Introduction to Course' b''], shape=(2,), dtype=string)\n",
      "tf.Tensor([b'####  Intro to Course' b''], shape=(2,), dtype=string)\n"
     ]
    }
   ],
   "source": [
    "for line in textFileDataset.take(6):\n",
    "    print(line)"
   ]
  },
  {
   "cell_type": "markdown",
   "id": "4457fecd",
   "metadata": {},
   "source": [
    "## Keras"
   ]
  },
  {
   "cell_type": "code",
   "execution_count": 38,
   "id": "e1de28d1",
   "metadata": {},
   "outputs": [],
   "source": [
    "from tensorflow import keras"
   ]
  },
  {
   "cell_type": "markdown",
   "id": "3c858960",
   "metadata": {},
   "source": [
    "### Step 0 : Read Data"
   ]
  },
  {
   "cell_type": "code",
   "execution_count": null,
   "id": "6fe7ffd8",
   "metadata": {},
   "outputs": [],
   "source": []
  },
  {
   "cell_type": "markdown",
   "id": "ef726525",
   "metadata": {},
   "source": [
    "### Step 1 : Define Model"
   ]
  },
  {
   "cell_type": "code",
   "execution_count": 39,
   "id": "33bf884e",
   "metadata": {},
   "outputs": [],
   "source": [
    "model = tf.keras.models.Sequential([\n",
    "    tf.keras.layers.Flatten(),\n",
    "    tf.keras.layers.Dense(128, activation = 'relu'),\n",
    "    tf.keras.layers.Dense(123, activation = 'relu'),\n",
    "    tf.keras.layers.Dense(123, activation = 'softmax')\n",
    "])"
   ]
  },
  {
   "cell_type": "markdown",
   "id": "94d7c8f4",
   "metadata": {},
   "source": [
    "### Step 2 : Compline Model"
   ]
  },
  {
   "cell_type": "code",
   "execution_count": null,
   "id": "f55acccc",
   "metadata": {},
   "outputs": [],
   "source": [
    "def rmse(y_true,y_pred):\n",
    "    return tf.sqrt(tf.reduce_mean(tf.square(y_pred - y_true)))\n",
    "\n",
    "model.compile(optimizer='adam', loss='mse', metrics=[rmse,'mse'])"
   ]
  },
  {
   "cell_type": "code",
   "execution_count": null,
   "id": "285abfca",
   "metadata": {},
   "outputs": [],
   "source": []
  },
  {
   "cell_type": "code",
   "execution_count": null,
   "id": "37ef51b1",
   "metadata": {},
   "outputs": [],
   "source": []
  },
  {
   "cell_type": "code",
   "execution_count": null,
   "id": "ecd17857",
   "metadata": {},
   "outputs": [],
   "source": []
  },
  {
   "cell_type": "code",
   "execution_count": null,
   "id": "f09c16c5",
   "metadata": {},
   "outputs": [],
   "source": []
  }
 ],
 "metadata": {
  "kernelspec": {
   "display_name": "Python 3",
   "language": "python",
   "name": "python3"
  },
  "language_info": {
   "codemirror_mode": {
    "name": "ipython",
    "version": 3
   },
   "file_extension": ".py",
   "mimetype": "text/x-python",
   "name": "python",
   "nbconvert_exporter": "python",
   "pygments_lexer": "ipython3",
   "version": "3.8.10"
  }
 },
 "nbformat": 4,
 "nbformat_minor": 5
}
